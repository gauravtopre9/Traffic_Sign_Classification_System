{
 "cells": [
  {
   "cell_type": "markdown",
   "id": "db6139f0",
   "metadata": {},
   "source": [
    "# Traffic Sign Recognition System"
   ]
  },
  {
   "cell_type": "markdown",
   "id": "593d2dc1",
   "metadata": {},
   "source": [
    "**Importing Modules**"
   ]
  },
  {
   "cell_type": "code",
   "execution_count": 3,
   "id": "8ad1e27a",
   "metadata": {},
   "outputs": [],
   "source": [
    "import numpy as np \n",
    "import pandas as pd \n",
    "import matplotlib.pyplot as plt\n",
    "import cv2\n",
    "import tensorflow as tf\n",
    "from PIL import Image\n",
    "import os\n",
    "from sklearn.model_selection import train_test_split\n",
    "from tensorflow.keras.utils import to_categorical\n",
    "from keras.models import Sequential, load_model\n",
    "from keras.layers import Conv2D, MaxPool2D, Dense, Flatten, Dropout"
   ]
  },
  {
   "cell_type": "markdown",
   "id": "a04bc326",
   "metadata": {},
   "source": [
    "**Stoare Data, Label in the List**"
   ]
  },
  {
   "cell_type": "code",
   "execution_count": 4,
   "id": "03dc8d5a",
   "metadata": {},
   "outputs": [
    {
     "name": "stdout",
     "output_type": "stream",
     "text": [
      "Current Working Directory is : C:\\Users\\GAURAV\\Desktop\\Trafic sign Project\n"
     ]
    }
   ],
   "source": [
    "data = []\n",
    "labels = []\n",
    "\n",
    "\n",
    "classes = 43\n",
    "\n",
    "cur_path = os.getcwd()\n",
    "print(\"Current Working Directory is : \" + cur_path)\n"
   ]
  },
  {
   "cell_type": "markdown",
   "id": "408a93c2",
   "metadata": {},
   "source": [
    "**Preprocessing Image**"
   ]
  },
  {
   "cell_type": "code",
   "execution_count": 5,
   "id": "83b58071",
   "metadata": {},
   "outputs": [],
   "source": [
    "for i in range(classes):\n",
    "    path = os.path.join(cur_path,'train',str(i))\n",
    "    images = os.listdir(path)\n",
    "    for a in images:\n",
    "        try:\n",
    "            image = Image.open(path + '\\\\'+ a)\n",
    "            image = image.resize((30,30))\n",
    "            image = np.array(image)\n",
    "            data.append(image)\n",
    "            labels.append(i)\n",
    "        except Exception as e:\n",
    "            print(e)"
   ]
  },
  {
   "cell_type": "markdown",
   "id": "cfdda792",
   "metadata": {},
   "source": [
    "**Converting List into a Numpy Array**"
   ]
  },
  {
   "cell_type": "code",
   "execution_count": 6,
   "id": "e94c0b50",
   "metadata": {},
   "outputs": [],
   "source": [
    "data = np.array(data)\n",
    "labels = np.array(labels)"
   ]
  },
  {
   "cell_type": "markdown",
   "id": "916edea5",
   "metadata": {},
   "source": [
    "**Save Labels and Data for further use**"
   ]
  },
  {
   "cell_type": "code",
   "execution_count": 7,
   "id": "51d27460",
   "metadata": {},
   "outputs": [],
   "source": [
    "#os.mkdir('trained')\n",
    "\n",
    "np.save('./trained/data',data)\n",
    "np.save('./trained/target',labels)"
   ]
  },
  {
   "cell_type": "markdown",
   "id": "f33a1eb2",
   "metadata": {},
   "source": [
    "**Load Data and Labels**"
   ]
  },
  {
   "cell_type": "code",
   "execution_count": 8,
   "id": "6d2749a0",
   "metadata": {},
   "outputs": [],
   "source": [
    "data = np.load('./trained/data.npy')\n",
    "labels = np.load('./trained/target.npy')"
   ]
  },
  {
   "cell_type": "code",
   "execution_count": 9,
   "id": "7adf9500",
   "metadata": {},
   "outputs": [
    {
     "name": "stdout",
     "output_type": "stream",
     "text": [
      "Shape of Image Data: (39209, 30, 30, 3)\n",
      "Shape of Labels Data: (39209,)\n"
     ]
    }
   ],
   "source": [
    "print('Shape of Image Data: ' + str(data.shape))\n",
    "print('Shape of Labels Data: ' + str(labels.shape))"
   ]
  },
  {
   "cell_type": "markdown",
   "id": "d4b0eb5e",
   "metadata": {},
   "source": [
    "*We can see that the shape of Image data and Labels is same*"
   ]
  },
  {
   "cell_type": "code",
   "execution_count": 10,
   "id": "070b53b2",
   "metadata": {},
   "outputs": [
    {
     "name": "stdout",
     "output_type": "stream",
     "text": [
      "20% Data is used as testing data\n",
      "Train Test Split Complete!!!\n"
     ]
    }
   ],
   "source": [
    "x_train,x_test,y_train,y_test = train_test_split(data, labels, test_size = 0.2, random_state = 0)\n",
    "print('20% Data is used as testing data')\n",
    "print('Train Test Split Complete!!!')"
   ]
  },
  {
   "cell_type": "code",
   "execution_count": 11,
   "id": "24270d86",
   "metadata": {},
   "outputs": [
    {
     "name": "stdout",
     "output_type": "stream",
     "text": [
      "Training sample sape for Image Data: (31367, 30, 30, 3)\n",
      "Testing sample sape for Image Data: (7842, 30, 30, 3)\n",
      "Training sample sape for Labels Data: (31367,)\n",
      "Testing sample sape for Labels Data: (7842,)\n"
     ]
    }
   ],
   "source": [
    "print('Training sample sape for Image Data: ' + str(x_train.shape))\n",
    "print('Testing sample sape for Image Data: ' + str(x_test.shape))\n",
    "print('Training sample sape for Labels Data: ' + str(y_train.shape))\n",
    "print('Testing sample sape for Labels Data: ' + str(y_test.shape))"
   ]
  },
  {
   "cell_type": "markdown",
   "id": "6f4cee23",
   "metadata": {},
   "source": [
    "**Convert Labels to onehot Encoding**"
   ]
  },
  {
   "cell_type": "code",
   "execution_count": 12,
   "id": "50444ca6",
   "metadata": {},
   "outputs": [],
   "source": [
    "y_train = to_categorical(y_train, 43)\n",
    "y_test = to_categorical(y_test, 43)"
   ]
  },
  {
   "cell_type": "markdown",
   "id": "1707280f",
   "metadata": {},
   "source": [
    "**Building Model**"
   ]
  },
  {
   "cell_type": "code",
   "execution_count": 13,
   "id": "f3f27800",
   "metadata": {},
   "outputs": [
    {
     "name": "stdout",
     "output_type": "stream",
     "text": [
      "Model Succesfully Developed !!!!\n"
     ]
    }
   ],
   "source": [
    "model = Sequential()\n",
    "\n",
    "model.add(Conv2D(filters=32, kernel_size=(5,5), activation='relu', input_shape=x_train.shape[1:]))\n",
    "\n",
    "model.add(Conv2D(filters=32, kernel_size=(5,5), activation='relu'))\n",
    "\n",
    "model.add(MaxPool2D(pool_size=(2, 2)))\n",
    "\n",
    "model.add(Dropout(rate=0.25))\n",
    "\n",
    "model.add(Conv2D(filters=64, kernel_size=(3, 3), activation='relu'))\n",
    "\n",
    "model.add(Conv2D(filters=64, kernel_size=(3, 3), activation='relu'))\n",
    "\n",
    "model.add(MaxPool2D(pool_size=(2, 2)))\n",
    "\n",
    "model.add(Dropout(rate=0.25))\n",
    "\n",
    "model.add(Flatten())\n",
    "\n",
    "model.add(Dense(256, activation='relu'))\n",
    "\n",
    "model.add(Dropout(rate=0.5))\n",
    "# We have 43 classes that's why we have defined 43 in the dense\n",
    "model.add(Dense(43, activation='softmax'))\n",
    "\n",
    "print('Model Succesfully Developed !!!!')"
   ]
  },
  {
   "cell_type": "markdown",
   "id": "1d5f4cd8",
   "metadata": {},
   "source": [
    "**Compilation of Model**"
   ]
  },
  {
   "cell_type": "code",
   "execution_count": 14,
   "id": "70a2ef4f",
   "metadata": {},
   "outputs": [],
   "source": [
    "model.compile(loss = 'categorical_crossentropy', optimizer='adam', metrics=['accuracy'])"
   ]
  },
  {
   "cell_type": "code",
   "execution_count": 15,
   "id": "766cf01d",
   "metadata": {},
   "outputs": [
    {
     "name": "stdout",
     "output_type": "stream",
     "text": [
      "Epoch 1/20\n",
      "981/981 [==============================] - 181s 182ms/step - loss: 2.1162 - accuracy: 0.4445 - val_loss: 0.6480 - val_accuracy: 0.8069\n",
      "Epoch 2/20\n",
      "981/981 [==============================] - 171s 174ms/step - loss: 0.9377 - accuracy: 0.7202 - val_loss: 0.4888 - val_accuracy: 0.8596\n",
      "Epoch 3/20\n",
      "981/981 [==============================] - 164s 167ms/step - loss: 0.7243 - accuracy: 0.7824 - val_loss: 0.2884 - val_accuracy: 0.9121\n",
      "Epoch 4/20\n",
      "981/981 [==============================] - 170s 173ms/step - loss: 0.6138 - accuracy: 0.8152 - val_loss: 0.2163 - val_accuracy: 0.9370\n",
      "Epoch 5/20\n",
      "981/981 [==============================] - 175s 179ms/step - loss: 0.5761 - accuracy: 0.8270 - val_loss: 0.2412 - val_accuracy: 0.9294\n",
      "Epoch 6/20\n",
      "981/981 [==============================] - 172s 175ms/step - loss: 0.5261 - accuracy: 0.8437 - val_loss: 0.1949 - val_accuracy: 0.9438\n",
      "Epoch 7/20\n",
      "981/981 [==============================] - 164s 167ms/step - loss: 0.4863 - accuracy: 0.8535 - val_loss: 0.1525 - val_accuracy: 0.9563\n",
      "Epoch 8/20\n",
      "981/981 [==============================] - 160s 164ms/step - loss: 0.4689 - accuracy: 0.8596 - val_loss: 0.1725 - val_accuracy: 0.9492\n",
      "Epoch 9/20\n",
      "981/981 [==============================] - 171s 175ms/step - loss: 0.4529 - accuracy: 0.8641 - val_loss: 0.1389 - val_accuracy: 0.9617\n",
      "Epoch 10/20\n",
      "981/981 [==============================] - 171s 174ms/step - loss: 0.4201 - accuracy: 0.8735 - val_loss: 0.1190 - val_accuracy: 0.9684\n",
      "Epoch 11/20\n",
      "981/981 [==============================] - 173s 176ms/step - loss: 0.3859 - accuracy: 0.8856 - val_loss: 0.1207 - val_accuracy: 0.9635\n",
      "Epoch 12/20\n",
      "981/981 [==============================] - 163s 166ms/step - loss: 0.3680 - accuracy: 0.8901 - val_loss: 0.1071 - val_accuracy: 0.9708\n",
      "Epoch 13/20\n",
      "981/981 [==============================] - 165s 169ms/step - loss: 0.3577 - accuracy: 0.8924 - val_loss: 0.1272 - val_accuracy: 0.9656\n",
      "Epoch 14/20\n",
      "981/981 [==============================] - 168s 171ms/step - loss: 0.3378 - accuracy: 0.8995 - val_loss: 0.1078 - val_accuracy: 0.9707\n",
      "Epoch 15/20\n",
      "981/981 [==============================] - 170s 173ms/step - loss: 0.3286 - accuracy: 0.9020 - val_loss: 0.0862 - val_accuracy: 0.9760\n",
      "Epoch 16/20\n",
      "981/981 [==============================] - 169s 173ms/step - loss: 0.3143 - accuracy: 0.9071 - val_loss: 0.0990 - val_accuracy: 0.9736\n",
      "Epoch 17/20\n",
      "981/981 [==============================] - 169s 172ms/step - loss: 0.3062 - accuracy: 0.9096 - val_loss: 0.1131 - val_accuracy: 0.9638\n",
      "Epoch 18/20\n",
      "981/981 [==============================] - 180s 184ms/step - loss: 0.3006 - accuracy: 0.9125 - val_loss: 0.0829 - val_accuracy: 0.9756\n",
      "Epoch 19/20\n",
      "981/981 [==============================] - 165s 168ms/step - loss: 0.2945 - accuracy: 0.9124 - val_loss: 0.0866 - val_accuracy: 0.9774\n",
      "Epoch 20/20\n",
      "981/981 [==============================] - 178s 182ms/step - loss: 0.2936 - accuracy: 0.9127 - val_loss: 0.1311 - val_accuracy: 0.9640\n"
     ]
    }
   ],
   "source": [
    "epochs = 20\n",
    "history = model.fit(x_train,y_train,batch_size = 32, epochs = epochs, validation_data = (x_test,y_test))"
   ]
  },
  {
   "cell_type": "markdown",
   "id": "432bb95e",
   "metadata": {},
   "source": [
    "**Accuracy**"
   ]
  },
  {
   "cell_type": "code",
   "execution_count": 16,
   "id": "ac2ca30a",
   "metadata": {},
   "outputs": [
    {
     "data": {
      "image/png": "[encoded data removed]",
      "text/plain": [
       "<Figure size 432x288 with 1 Axes>"
      ]
     },
     "metadata": {
      "needs_background": "light"
     },
     "output_type": "display_data"
    }
   ],
   "source": [
    "plt.figure(0)\n",
    "plt.plot(history.history['accuracy'], label='training accuracy')\n",
    "plt.plot(history.history['val_accuracy'], label='val accuracy')\n",
    "plt.title('Accuracy')\n",
    "plt.xlabel('epochs')\n",
    "plt.ylabel('accuracy')\n",
    "plt.legend()\n",
    "plt.show()"
   ]
  },
  {
   "cell_type": "markdown",
   "id": "f9567459",
   "metadata": {},
   "source": [
    "Here what we can observe is that for 20 Epochs \n",
    "\n",
    "*Accuracy is 0.9422*\n",
    "\n",
    "*Validation Accuracy is 0.9843*"
   ]
  },
  {
   "cell_type": "markdown",
   "id": "d3ee5846",
   "metadata": {},
   "source": [
    "**Loss**"
   ]
  },
  {
   "cell_type": "code",
   "execution_count": 17,
   "id": "3058c939",
   "metadata": {},
   "outputs": [
    {
     "data": {
      "image/png": "[encoded data removed]",
      "text/plain": [
       "<Figure size 432x288 with 1 Axes>"
      ]
     },
     "metadata": {
      "needs_background": "light"
     },
     "output_type": "display_data"
    }
   ],
   "source": [
    "plt.plot(history.history['loss'], label='training loss')\n",
    "plt.plot(history.history['val_loss'], label='val loss')\n",
    "plt.title('Loss')\n",
    "plt.xlabel('epochs')\n",
    "plt.ylabel('loss')\n",
    "plt.legend()\n",
    "plt.show()"
   ]
  },
  {
   "cell_type": "markdown",
   "id": "0e5b295c",
   "metadata": {},
   "source": [
    "So we can observe that \n",
    "\n",
    "*Feature loss is 0.2349*\n",
    "\n",
    "*Validation loss is 0.0572*"
   ]
  },
  {
   "cell_type": "markdown",
   "id": "d817eaee",
   "metadata": {},
   "source": [
    "**Testing**"
   ]
  },
  {
   "cell_type": "code",
   "execution_count": 18,
   "id": "45d385a6",
   "metadata": {},
   "outputs": [],
   "source": [
    "def testing(testcsv):\n",
    "    y_test = pd.read_csv(testcsv)\n",
    "    label = y_test[\"ClassId\"].values\n",
    "    imgs = y_test[\"Path\"].values\n",
    "    data=[]\n",
    "    for img in imgs:\n",
    "        image = Image.open(img)\n",
    "        image = image.resize((30,30))\n",
    "        data.append(np.array(image))\n",
    "    x_test=np.array(data)\n",
    "    return x_test,label"
   ]
  },
  {
   "cell_type": "code",
   "execution_count": 19,
   "id": "a91fa009",
   "metadata": {},
   "outputs": [],
   "source": [
    "x_test, label = testing('Test.csv')"
   ]
  },
  {
   "cell_type": "code",
   "execution_count": 24,
   "id": "442f8a6b",
   "metadata": {},
   "outputs": [
    {
     "data": {
      "text/plain": [
       "array([12, 13, 31, ..., 26,  7,  4], dtype=int64)"
      ]
     },
     "execution_count": 24,
     "metadata": {},
     "output_type": "execute_result"
    }
   ],
   "source": [
    "y_pred = np.argmax(model.predict(x_test), axis=-1)\n",
    "y_pred"
   ]
  },
  {
   "cell_type": "markdown",
   "id": "9207f660",
   "metadata": {},
   "source": [
    "**Accuracy With Test Data**"
   ]
  },
  {
   "cell_type": "code",
   "execution_count": 29,
   "id": "06063376",
   "metadata": {},
   "outputs": [],
   "source": [
    "from sklearn.metrics import accuracy_score"
   ]
  },
  {
   "cell_type": "code",
   "execution_count": 31,
   "id": "dd6a82ba",
   "metadata": {},
   "outputs": [],
   "source": [
    "model.save(\"./trained/TSR.h5\")"
   ]
  },
  {
   "cell_type": "markdown",
   "id": "f3813604",
   "metadata": {},
   "source": [
    "**Loading the model**"
   ]
  },
  {
   "cell_type": "code",
   "execution_count": 33,
   "id": "46f6eb4a",
   "metadata": {},
   "outputs": [],
   "source": [
    "from keras.models import load_model\n",
    "model = load_model('./trained/TSR.h5')"
   ]
  },
  {
   "cell_type": "markdown",
   "id": "458ceb81",
   "metadata": {},
   "source": [
    "*Classes of Traffic Signs*\n",
    "\n",
    "This classes are labeled on the basis of available train data"
   ]
  },
  {
   "cell_type": "code",
   "execution_count": 34,
   "id": "7a391b7a",
   "metadata": {},
   "outputs": [],
   "source": [
    "classes = { 0:'Speed limit (20km/h)',\n",
    "            1:'Speed limit (30km/h)', \n",
    "            2:'Speed limit (50km/h)', \n",
    "            3:'Speed limit (60km/h)', \n",
    "            4:'Speed limit (70km/h)', \n",
    "            5:'Speed limit (80km/h)', \n",
    "            6:'End of speed limit (80km/h)', \n",
    "            7:'Speed limit (100km/h)', \n",
    "            8:'Speed limit (120km/h)', \n",
    "            9:'No passing', \n",
    "            10:'No passing veh over 3.5 tons', \n",
    "            11:'Right-of-way at intersection', \n",
    "            12:'Priority road', \n",
    "            13:'Yield', \n",
    "            14:'Stop', \n",
    "            15:'No vehicles', \n",
    "            16:'Veh > 3.5 tons prohibited', \n",
    "            17:'No entry', \n",
    "            18:'General caution', \n",
    "            19:'Dangerous curve left', \n",
    "            20:'Dangerous curve right', \n",
    "            21:'Double curve', \n",
    "            22:'Bumpy road', \n",
    "            23:'Slippery road', \n",
    "            24:'Road narrows on the right', \n",
    "            25:'Road work', \n",
    "            26:'Traffic signals', \n",
    "            27:'Pedestrians', \n",
    "            28:'Children crossing', \n",
    "            29:'Bicycles crossing', \n",
    "            30:'Beware of ice/snow',\n",
    "            31:'Wild animals crossing', \n",
    "            32:'End speed + passing limits', \n",
    "            33:'Turn right ahead', \n",
    "            34:'Turn left ahead', \n",
    "            35:'Ahead only', \n",
    "            36:'Go straight or right', \n",
    "            37:'Go straight or left', \n",
    "            38:'Keep right', \n",
    "            39:'Keep left', \n",
    "            40:'Roundabout mandatory', \n",
    "            41:'End of no passing', \n",
    "            42:'End no passing veh > 3.5 tons' }"
   ]
  },
  {
   "cell_type": "code",
   "execution_count": 38,
   "id": "ea872269",
   "metadata": {},
   "outputs": [],
   "source": [
    "from PIL import Image\n",
    "import numpy as np\n",
    "import matplotlib.pyplot as plt\n",
    "def test_on_img(img):\n",
    "    data=[]\n",
    "    image = Image.open(img)\n",
    "    image = image.resize((30,30))\n",
    "    data.append(np.array(image))\n",
    "    x_test=np.array(data)\n",
    "    y_pred = np.argmax(model.predict(x_test), axis=-1)\n",
    "    return image,y_pred"
   ]
  },
  {
   "cell_type": "code",
   "execution_count": 40,
   "id": "c2d716c7",
   "metadata": {},
   "outputs": [
    {
     "name": "stdout",
     "output_type": "stream",
     "text": [
      "Predicted traffic sign is:  Speed limit (70km/h)\n"
     ]
    },
    {
     "data": {
      "image/png": "[encoded data removed]",
      "text/plain": [
       "<Figure size 432x288 with 1 Axes>"
      ]
     },
     "metadata": {
      "needs_background": "light"
     },
     "output_type": "display_data"
    }
   ],
   "source": [
    "plot,prediction = test_on_img(r'C:\\Users\\GAURAV\\Desktop\\Trafic sign Project\\Test\\00062.png')\n",
    "s = [str(i) for i in prediction] \n",
    "a = int(\"\".join(s)) \n",
    "print(\"Predicted traffic sign is: \", classes[a])\n",
    "plt.imshow(plot)\n",
    "plt.show()"
   ]
  },
  {
   "cell_type": "markdown",
   "id": "be41c6e6",
   "metadata": {},
   "source": [
    "### **hurreyyyy, Completed !**"
   ]
  }
 ],
 "metadata": {
  "kernelspec": {
   "display_name": "Python 3",
   "language": "python",
   "name": "python3"
  },
  "language_info": {
   "codemirror_mode": {
    "name": "ipython",
    "version": 3
   },
   "file_extension": ".py",
   "mimetype": "text/x-python",
   "name": "python",
   "nbconvert_exporter": "python",
   "pygments_lexer": "ipython3",
   "version": "3.8.8"
  }
 },
 "nbformat": 4,
 "nbformat_minor": 5
}
